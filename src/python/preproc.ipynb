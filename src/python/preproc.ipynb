{
 "cells": [
  {
   "cell_type": "markdown",
   "metadata": {},
   "source": [
    "# Intro Python\n",
    "\n",
    "In this notebook, I will define a Python function called `sayHello` that returns a greeting together with the parameter 'name', and then call this function to display the result.\n",
    "\n",
    "## Step 1: Defining the Function\n",
    "\n",
    "First, I'll define the 'sayHello' function in Python. This function will simply return a greeting together with the input parameter 'name'."
   ]
  },
  {
   "cell_type": "code",
   "execution_count": 4,
   "metadata": {},
   "outputs": [],
   "source": [
    "def sayHello(name):\n",
    "    greeting = \"Hello \" + name + \"!\"\n",
    "    return greeting"
   ]
  },
  {
   "cell_type": "markdown",
   "metadata": {},
   "source": [
    "## Step 2: Calling the Function\n",
    "\n",
    "Now that the function is defined, let's call it with my name 'Jannis'."
   ]
  },
  {
   "cell_type": "code",
   "execution_count": 5,
   "metadata": {},
   "outputs": [
    {
     "name": "stdout",
     "output_type": "stream",
     "text": [
      "Hello Jannis!\n"
     ]
    }
   ],
   "source": [
    "print(sayHello(\"Jannis\"))"
   ]
  },
  {
   "cell_type": "markdown",
   "metadata": {},
   "source": [
    "The output of the code is \"Hello Jannis!\" as expected."
   ]
  }
 ],
 "metadata": {
  "kernelspec": {
   "display_name": "Python 3",
   "language": "python",
   "name": "python3"
  },
  "language_info": {
   "codemirror_mode": {
    "name": "ipython",
    "version": 3
   },
   "file_extension": ".py",
   "mimetype": "text/x-python",
   "name": "python",
   "nbconvert_exporter": "python",
   "pygments_lexer": "ipython3",
   "version": "3.11.3"
  }
 },
 "nbformat": 4,
 "nbformat_minor": 2
}
